{
  "cells": [
    {
      "cell_type": "markdown",
      "metadata": {
        "id": "view-in-github",
        "colab_type": "text"
      },
      "source": [
        "<a href=\"https://colab.research.google.com/github/var-github/ACM_ML/blob/main/Language_translation.ipynb\" target=\"_parent\"><img src=\"https://colab.research.google.com/assets/colab-badge.svg\" alt=\"Open In Colab\"/></a>"
      ]
    },
    {
      "cell_type": "code",
      "execution_count": 36,
      "metadata": {
        "colab": {
          "base_uri": "https://localhost:8080/"
        },
        "id": "mYFL-W0qQMMX",
        "outputId": "fa8bc108-d581-4a26-c89d-4f49f2968b04"
      },
      "outputs": [
        {
          "output_type": "stream",
          "name": "stdout",
          "text": [
            "Data source import complete\n"
          ]
        }
      ],
      "source": [
        "import kagglehub\n",
        "path = kagglehub.dataset_download('devicharith/language-translation-englishfrench')\n",
        "print('Data source import complete')"
      ]
    },
    {
      "cell_type": "code",
      "execution_count": 37,
      "metadata": {
        "colab": {
          "base_uri": "https://localhost:8080/"
        },
        "id": "Qq9HbLclapA7",
        "outputId": "45c97e23-e6b4-4455-fe53-59166f9c8dcd"
      },
      "outputs": [
        {
          "output_type": "stream",
          "name": "stdout",
          "text": [
            "Requirement already satisfied: tensorflow in /usr/local/lib/python3.11/dist-packages (2.19.0)\n",
            "Requirement already satisfied: absl-py>=1.0.0 in /usr/local/lib/python3.11/dist-packages (from tensorflow) (1.4.0)\n",
            "Requirement already satisfied: astunparse>=1.6.0 in /usr/local/lib/python3.11/dist-packages (from tensorflow) (1.6.3)\n",
            "Requirement already satisfied: flatbuffers>=24.3.25 in /usr/local/lib/python3.11/dist-packages (from tensorflow) (25.2.10)\n",
            "Requirement already satisfied: gast!=0.5.0,!=0.5.1,!=0.5.2,>=0.2.1 in /usr/local/lib/python3.11/dist-packages (from tensorflow) (0.6.0)\n",
            "Requirement already satisfied: google-pasta>=0.1.1 in /usr/local/lib/python3.11/dist-packages (from tensorflow) (0.2.0)\n",
            "Requirement already satisfied: libclang>=13.0.0 in /usr/local/lib/python3.11/dist-packages (from tensorflow) (18.1.1)\n",
            "Requirement already satisfied: opt-einsum>=2.3.2 in /usr/local/lib/python3.11/dist-packages (from tensorflow) (3.4.0)\n",
            "Requirement already satisfied: packaging in /usr/local/lib/python3.11/dist-packages (from tensorflow) (25.0)\n",
            "Requirement already satisfied: protobuf!=4.21.0,!=4.21.1,!=4.21.2,!=4.21.3,!=4.21.4,!=4.21.5,<6.0.0dev,>=3.20.3 in /usr/local/lib/python3.11/dist-packages (from tensorflow) (5.29.4)\n",
            "Requirement already satisfied: requests<3,>=2.21.0 in /usr/local/lib/python3.11/dist-packages (from tensorflow) (2.32.3)\n",
            "Requirement already satisfied: setuptools in /usr/local/lib/python3.11/dist-packages (from tensorflow) (75.2.0)\n",
            "Requirement already satisfied: six>=1.12.0 in /usr/local/lib/python3.11/dist-packages (from tensorflow) (1.17.0)\n",
            "Requirement already satisfied: termcolor>=1.1.0 in /usr/local/lib/python3.11/dist-packages (from tensorflow) (3.0.1)\n",
            "Requirement already satisfied: typing-extensions>=3.6.6 in /usr/local/lib/python3.11/dist-packages (from tensorflow) (4.13.2)\n",
            "Requirement already satisfied: wrapt>=1.11.0 in /usr/local/lib/python3.11/dist-packages (from tensorflow) (1.17.2)\n",
            "Requirement already satisfied: grpcio<2.0,>=1.24.3 in /usr/local/lib/python3.11/dist-packages (from tensorflow) (1.71.0)\n",
            "Requirement already satisfied: tensorboard~=2.19.0 in /usr/local/lib/python3.11/dist-packages (from tensorflow) (2.19.0)\n",
            "Requirement already satisfied: keras>=3.5.0 in /usr/local/lib/python3.11/dist-packages (from tensorflow) (3.8.0)\n",
            "Requirement already satisfied: numpy<2.2.0,>=1.26.0 in /usr/local/lib/python3.11/dist-packages (from tensorflow) (2.0.2)\n",
            "Requirement already satisfied: h5py>=3.11.0 in /usr/local/lib/python3.11/dist-packages (from tensorflow) (3.13.0)\n",
            "Requirement already satisfied: ml-dtypes<1.0.0,>=0.5.1 in /usr/local/lib/python3.11/dist-packages (from tensorflow) (0.5.1)\n",
            "Requirement already satisfied: tensorflow-io-gcs-filesystem>=0.23.1 in /usr/local/lib/python3.11/dist-packages (from tensorflow) (0.37.1)\n",
            "Requirement already satisfied: wheel<1.0,>=0.23.0 in /usr/local/lib/python3.11/dist-packages (from astunparse>=1.6.0->tensorflow) (0.45.1)\n",
            "Requirement already satisfied: rich in /usr/local/lib/python3.11/dist-packages (from keras>=3.5.0->tensorflow) (14.0.0)\n",
            "Requirement already satisfied: namex in /usr/local/lib/python3.11/dist-packages (from keras>=3.5.0->tensorflow) (0.0.9)\n",
            "Requirement already satisfied: optree in /usr/local/lib/python3.11/dist-packages (from keras>=3.5.0->tensorflow) (0.15.0)\n",
            "Requirement already satisfied: charset-normalizer<4,>=2 in /usr/local/lib/python3.11/dist-packages (from requests<3,>=2.21.0->tensorflow) (3.4.1)\n",
            "Requirement already satisfied: idna<4,>=2.5 in /usr/local/lib/python3.11/dist-packages (from requests<3,>=2.21.0->tensorflow) (3.10)\n",
            "Requirement already satisfied: urllib3<3,>=1.21.1 in /usr/local/lib/python3.11/dist-packages (from requests<3,>=2.21.0->tensorflow) (2.3.0)\n",
            "Requirement already satisfied: certifi>=2017.4.17 in /usr/local/lib/python3.11/dist-packages (from requests<3,>=2.21.0->tensorflow) (2025.1.31)\n",
            "Requirement already satisfied: markdown>=2.6.8 in /usr/lib/python3/dist-packages (from tensorboard~=2.19.0->tensorflow) (3.3.6)\n",
            "Requirement already satisfied: tensorboard-data-server<0.8.0,>=0.7.0 in /usr/local/lib/python3.11/dist-packages (from tensorboard~=2.19.0->tensorflow) (0.7.2)\n",
            "Requirement already satisfied: werkzeug>=1.0.1 in /usr/local/lib/python3.11/dist-packages (from tensorboard~=2.19.0->tensorflow) (3.1.3)\n",
            "Requirement already satisfied: MarkupSafe>=2.1.1 in /usr/local/lib/python3.11/dist-packages (from werkzeug>=1.0.1->tensorboard~=2.19.0->tensorflow) (3.0.2)\n",
            "Requirement already satisfied: markdown-it-py>=2.2.0 in /usr/local/lib/python3.11/dist-packages (from rich->keras>=3.5.0->tensorflow) (3.0.0)\n",
            "Requirement already satisfied: pygments<3.0.0,>=2.13.0 in /usr/local/lib/python3.11/dist-packages (from rich->keras>=3.5.0->tensorflow) (2.19.1)\n",
            "Requirement already satisfied: mdurl~=0.1 in /usr/local/lib/python3.11/dist-packages (from markdown-it-py>=2.2.0->rich->keras>=3.5.0->tensorflow) (0.1.2)\n"
          ]
        }
      ],
      "source": [
        "!pip install --upgrade tensorflow"
      ]
    },
    {
      "cell_type": "code",
      "execution_count": 38,
      "metadata": {
        "id": "DbLX7LYpHR4g"
      },
      "outputs": [],
      "source": [
        "import numpy as np\n",
        "from tensorflow.keras.preprocessing.text import Tokenizer, tokenizer_from_json\n",
        "from tensorflow.keras.preprocessing.sequence import pad_sequences\n",
        "from tensorflow.keras.utils import to_categorical\n",
        "from tensorflow.keras.models import Sequential,load_model\n",
        "from tensorflow.keras.layers import LSTM,Dense,Embedding, RepeatVector, TimeDistributed\n",
        "from tensorflow.keras.callbacks import ModelCheckpoint\n",
        "import pandas as pd\n",
        "from string import punctuation\n",
        "from google.colab import files"
      ]
    },
    {
      "cell_type": "code",
      "execution_count": 39,
      "metadata": {
        "id": "9ZFpss7CRTW-"
      },
      "outputs": [],
      "source": [
        "path = path + \"/eng_-french.csv\"\n",
        "dataset = pd.read_csv(path)\n",
        "dataset = dataset[:70000]\n",
        "dataset = dataset.sample(frac=1)\n",
        "# Dataset has 2 parts English words/sentences and French words/sentences"
      ]
    },
    {
      "cell_type": "code",
      "execution_count": 40,
      "metadata": {
        "id": "sJk1L6EvV8QP"
      },
      "outputs": [],
      "source": [
        "def clean_string(s):\n",
        "    s = s.lower()\n",
        "    for p in punctuation + \"0123456789«\":\n",
        "        s = s.replace(p, \"\")\n",
        "    s = s.strip()\n",
        "    return s\n",
        "\n",
        "dataset[\"English words/sentences\"] = dataset[\"English words/sentences\"].apply(lambda x: clean_string(x))\n",
        "dataset[\"French words/sentences\"] = dataset[\"French words/sentences\"].apply(lambda x: clean_string(x))"
      ]
    },
    {
      "cell_type": "code",
      "execution_count": 41,
      "metadata": {
        "id": "GZRcNYahkMqT"
      },
      "outputs": [],
      "source": [
        "def create_tokenizer(lines):\n",
        "    tokenizer = Tokenizer()\n",
        "    tokenizer.fit_on_texts(lines)\n",
        "    return tokenizer\n",
        "\n",
        "src_tokenizer = create_tokenizer(dataset.loc[:, \"English words/sentences\"])\n",
        "tar_tokenizer = create_tokenizer(dataset.loc[:, \"French words/sentences\"])\n",
        "\n",
        "with open('src_tokenizer.json', 'w') as f:\n",
        "    f.write(src_tokenizer.to_json())\n",
        "with open('tar_tokenizer.json', 'w') as f:\n",
        "    f.write(tar_tokenizer.to_json())"
      ]
    },
    {
      "cell_type": "code",
      "source": [
        "with open('src_tokenizer.json') as f:\n",
        "    src_tokenizer = tokenizer_from_json(f.read())\n",
        "with open('tar_tokenizer.json') as f:\n",
        "    tar_tokenizer = tokenizer_from_json(f.read())\n",
        "\n",
        "src_vocab_size = len(src_tokenizer.word_index) + 1\n",
        "tar_vocab_size = len(tar_tokenizer.word_index) + 1"
      ],
      "metadata": {
        "id": "jblzvugkBxzK"
      },
      "execution_count": 42,
      "outputs": []
    },
    {
      "cell_type": "code",
      "execution_count": null,
      "metadata": {
        "id": "XP010D1UC53m"
      },
      "outputs": [],
      "source": [
        "def max_len(lines):\n",
        "    return max(len(line.split()) for line in lines)"
      ]
    },
    {
      "cell_type": "code",
      "source": [
        "tar_length = max_len(dataset.loc[:, \"French words/sentences\"])\n",
        "src_length = max_len(dataset.loc[:, \"English words/sentences\"])"
      ],
      "metadata": {
        "id": "NIgwu1u2X4Dn"
      },
      "execution_count": null,
      "outputs": []
    },
    {
      "cell_type": "code",
      "execution_count": null,
      "metadata": {
        "id": "X3wcjqEMkIe8"
      },
      "outputs": [],
      "source": [
        "test_propotion = 0.15\n",
        "train_size = len(dataset) - int(len(dataset) * test_propotion)\n",
        "train_set = dataset[:train_size]\n",
        "test_set = dataset[train_size:]"
      ]
    },
    {
      "cell_type": "code",
      "execution_count": null,
      "metadata": {
        "id": "cbGtweQP5Mqq"
      },
      "outputs": [],
      "source": [
        "x_train = src_tokenizer.texts_to_sequences(train_set.loc[:, \"English words/sentences\"])\n",
        "x_train = pad_sequences(x_train, padding='post', maxlen=src_length)\n",
        "x_test = src_tokenizer.texts_to_sequences(test_set.loc[:, \"English words/sentences\"])\n",
        "x_test = pad_sequences(x_test, padding='post', maxlen=src_length)\n",
        "\n",
        "y_train = tar_tokenizer.texts_to_sequences(train_set.loc[:, \"French words/sentences\"])\n",
        "y_train = pad_sequences(y_train, padding='post', maxlen=tar_length)\n",
        "y_test = tar_tokenizer.texts_to_sequences(test_set.loc[:, \"French words/sentences\"])\n",
        "y_test = pad_sequences(y_test, padding='post', maxlen=tar_length)"
      ]
    },
    {
      "cell_type": "code",
      "execution_count": null,
      "metadata": {
        "id": "C09y7fapLbXQ"
      },
      "outputs": [],
      "source": [
        "def encode_output(sequences, vocab_size):\n",
        "    ylist = []\n",
        "    for sequence in sequences:\n",
        "        encoded = to_categorical(sequence, num_classes=vocab_size)\n",
        "        ylist.append(encoded)\n",
        "    y = np.array(ylist)\n",
        "    y = y.reshape(sequences.shape[0], sequences.shape[1], vocab_size)\n",
        "    return y"
      ]
    },
    {
      "cell_type": "code",
      "execution_count": null,
      "metadata": {
        "id": "udpNFW3mL_iv"
      },
      "outputs": [],
      "source": [
        "y_train = encode_output(y_train, tar_vocab_size)\n",
        "y_test = encode_output(y_test, tar_vocab_size)"
      ]
    },
    {
      "cell_type": "code",
      "execution_count": null,
      "metadata": {
        "id": "vMf31jDy-6T8"
      },
      "outputs": [],
      "source": [
        "def create_model(src_vocab, tar_vocab, tar_length, n_units):\n",
        "    model = Sequential()\n",
        "    model.add(Embedding(src_vocab, n_units, mask_zero=True))\n",
        "    model.add(LSTM(n_units))\n",
        "    model.add(RepeatVector(tar_length))\n",
        "    model.add(LSTM(n_units, return_sequences=True))\n",
        "    model.add(TimeDistributed(Dense(tar_vocab, activation='softmax')))\n",
        "    return model\n",
        "\n",
        "model = create_model(src_vocab_size, tar_vocab_size, tar_length, 128)\n",
        "model.compile(optimizer='adam', loss='categorical_crossentropy', metrics=[\"accuracy\"])\n",
        "model.build(input_shape=(None, src_length))\n",
        "model.save('language_transform.keras')"
      ]
    },
    {
      "cell_type": "code",
      "source": [
        "model = load_model('language_transform.keras')"
      ],
      "metadata": {
        "id": "8bS_sYEWFqdF"
      },
      "execution_count": 43,
      "outputs": []
    },
    {
      "cell_type": "code",
      "execution_count": null,
      "metadata": {
        "colab": {
          "base_uri": "https://localhost:8080/",
          "height": 89
        },
        "id": "dcgVdQMaKLw7",
        "outputId": "4bfa2f55-6929-4a53-d7a6-96899620122a"
      },
      "outputs": [
        {
          "output_type": "stream",
          "name": "stdout",
          "text": [
            "Epoch 1/2\n",
            "\u001b[1m930/930\u001b[0m \u001b[32m━━━━━━━━━━━━━━━━━━━━\u001b[0m\u001b[37m\u001b[0m \u001b[1m1851s\u001b[0m 2s/step - Accuracy: 0.8434 - loss: 0.6726\n",
            "Epoch 2/2\n",
            "\u001b[1m930/930\u001b[0m \u001b[32m━━━━━━━━━━━━━━━━━━━━\u001b[0m\u001b[37m\u001b[0m \u001b[1m1848s\u001b[0m 2s/step - Accuracy: 0.8494 - loss: 0.6321\n"
          ]
        },
        {
          "output_type": "display_data",
          "data": {
            "text/plain": [
              "<IPython.core.display.Javascript object>"
            ],
            "application/javascript": [
              "\n",
              "    async function download(id, filename, size) {\n",
              "      if (!google.colab.kernel.accessAllowed) {\n",
              "        return;\n",
              "      }\n",
              "      const div = document.createElement('div');\n",
              "      const label = document.createElement('label');\n",
              "      label.textContent = `Downloading \"${filename}\": `;\n",
              "      div.appendChild(label);\n",
              "      const progress = document.createElement('progress');\n",
              "      progress.max = size;\n",
              "      div.appendChild(progress);\n",
              "      document.body.appendChild(div);\n",
              "\n",
              "      const buffers = [];\n",
              "      let downloaded = 0;\n",
              "\n",
              "      const channel = await google.colab.kernel.comms.open(id);\n",
              "      // Send a message to notify the kernel that we're ready.\n",
              "      channel.send({})\n",
              "\n",
              "      for await (const message of channel.messages) {\n",
              "        // Send a message to notify the kernel that we're ready.\n",
              "        channel.send({})\n",
              "        if (message.buffers) {\n",
              "          for (const buffer of message.buffers) {\n",
              "            buffers.push(buffer);\n",
              "            downloaded += buffer.byteLength;\n",
              "            progress.value = downloaded;\n",
              "          }\n",
              "        }\n",
              "      }\n",
              "      const blob = new Blob(buffers, {type: 'application/binary'});\n",
              "      const a = document.createElement('a');\n",
              "      a.href = window.URL.createObjectURL(blob);\n",
              "      a.download = filename;\n",
              "      div.appendChild(a);\n",
              "      a.click();\n",
              "      div.remove();\n",
              "    }\n",
              "  "
            ]
          },
          "metadata": {}
        },
        {
          "output_type": "display_data",
          "data": {
            "text/plain": [
              "<IPython.core.display.Javascript object>"
            ],
            "application/javascript": [
              "download(\"download_9db18876-e620-4d0c-8c32-36b1a28c0257\", \"language_transform.keras\", 37835543)"
            ]
          },
          "metadata": {}
        }
      ],
      "source": [
        "checkpoint = ModelCheckpoint('model{epoch:03d}.keras', save_freq='epoch')\n",
        "model.fit(x_train, y_train, epochs=2, batch_size=64, verbose=1, callbacks=[checkpoint])\n",
        "model.save('language_transform.keras')\n",
        "files.download('language_transform.keras')"
      ]
    },
    {
      "cell_type": "code",
      "execution_count": 44,
      "metadata": {
        "id": "bsY8Gd0F2rr1"
      },
      "outputs": [],
      "source": [
        "def word_for_id(integer, tokenizer):\n",
        "    for word, index in tokenizer.word_index.items():\n",
        "        if index == integer:\n",
        "            return word\n",
        "    return None"
      ]
    },
    {
      "cell_type": "code",
      "execution_count": 45,
      "metadata": {
        "id": "lJNa19LY_lsg"
      },
      "outputs": [],
      "source": [
        "def predict_seq(model, tokenizer, source):\n",
        "    source = source.reshape((1, source.shape[0]))\n",
        "    prediction = model.predict(source)\n",
        "    integers = [int(np.argmax(vector)) for vector in prediction[0]]\n",
        "    target = []\n",
        "    for i in integers:\n",
        "        word = word_for_id(i, tokenizer)\n",
        "        if word is None:\n",
        "            break\n",
        "        target.append(word)\n",
        "    #Return Decoded Sentence\n",
        "    return ' '.join(target)"
      ]
    },
    {
      "cell_type": "code",
      "execution_count": 49,
      "metadata": {
        "id": "ZzuXiAct_zjS",
        "colab": {
          "base_uri": "https://localhost:8080/"
        },
        "outputId": "63ca6608-a8a2-4aa1-e0c9-2df6474630f1"
      },
      "outputs": [
        {
          "output_type": "stream",
          "name": "stdout",
          "text": [
            "\n",
            "\n",
            "### Results ###\n",
            "\u001b[1m1/1\u001b[0m \u001b[32m━━━━━━━━━━━━━━━━━━━━\u001b[0m\u001b[37m\u001b[0m \u001b[1m0s\u001b[0m 42ms/step\n",
            "im at home                     je suis dans la maison                             je suis chez moi maison\n",
            "\u001b[1m1/1\u001b[0m \u001b[32m━━━━━━━━━━━━━━━━━━━━\u001b[0m\u001b[37m\u001b[0m \u001b[1m0s\u001b[0m 40ms/step\n",
            "you have a good lawyer         vous avez une bonne avocate                        tu avez un serai serai\n",
            "\u001b[1m1/1\u001b[0m \u001b[32m━━━━━━━━━━━━━━━━━━━━\u001b[0m\u001b[37m\u001b[0m \u001b[1m0s\u001b[0m 40ms/step\n",
            "thats a relief                 cest un soulagement                                cest un poche\n",
            "\u001b[1m1/1\u001b[0m \u001b[32m━━━━━━━━━━━━━━━━━━━━\u001b[0m\u001b[37m\u001b[0m \u001b[1m0s\u001b[0m 40ms/step\n",
            "i went too                     jy suis allé aussi                                 je suis taider\n",
            "\u001b[1m1/1\u001b[0m \u001b[32m━━━━━━━━━━━━━━━━━━━━\u001b[0m\u001b[37m\u001b[0m \u001b[1m0s\u001b[0m 40ms/step\n",
            "i hid behind the tree          je me cachai derrière larbre                       jai déteste à à\n",
            "\u001b[1m1/1\u001b[0m \u001b[32m━━━━━━━━━━━━━━━━━━━━\u001b[0m\u001b[37m\u001b[0m \u001b[1m0s\u001b[0m 42ms/step\n",
            "i forgot my pencil             jai oublié mon crayon                              jai mauvaise sont\n",
            "\u001b[1m1/1\u001b[0m \u001b[32m━━━━━━━━━━━━━━━━━━━━\u001b[0m\u001b[37m\u001b[0m \u001b[1m0s\u001b[0m 41ms/step\n",
            "do you want to use mine        veuxtu utiliser la mienne                          hier jaimerais le qui monde\n",
            "\u001b[1m1/1\u001b[0m \u001b[32m━━━━━━━━━━━━━━━━━━━━\u001b[0m\u001b[37m\u001b[0m \u001b[1m0s\u001b[0m 40ms/step\n",
            "look around you                regardez autour de vous                            regardez ce vous toi bien\n",
            "\u001b[1m1/1\u001b[0m \u001b[32m━━━━━━━━━━━━━━━━━━━━\u001b[0m\u001b[37m\u001b[0m \u001b[1m0s\u001b[0m 40ms/step\n",
            "i require your assistance      je requiers votre assistance                       jai votre compte\n",
            "\u001b[1m1/1\u001b[0m \u001b[32m━━━━━━━━━━━━━━━━━━━━\u001b[0m\u001b[37m\u001b[0m \u001b[1m0s\u001b[0m 40ms/step\n",
            "i postponed the event          je remis la manifestation                          salade vos\n",
            "\u001b[1m1/1\u001b[0m \u001b[32m━━━━━━━━━━━━━━━━━━━━\u001b[0m\u001b[37m\u001b[0m \u001b[1m0s\u001b[0m 40ms/step\n",
            "i dont need it now             je nen ai pas besoin à lheure actuelle             je nai pas besoin besoin ça\n",
            "\u001b[1m1/1\u001b[0m \u001b[32m━━━━━━━━━━━━━━━━━━━━\u001b[0m\u001b[37m\u001b[0m \u001b[1m0s\u001b[0m 39ms/step\n",
            "i need a little help here      il me faut un peu daide à ce stade                 jai besoin dêtre un un\n",
            "\u001b[1m1/1\u001b[0m \u001b[32m━━━━━━━━━━━━━━━━━━━━\u001b[0m\u001b[37m\u001b[0m \u001b[1m0s\u001b[0m 39ms/step\n",
            "she lost a book                elle a égaré un livre                              elle livre un un\n",
            "\u001b[1m1/1\u001b[0m \u001b[32m━━━━━━━━━━━━━━━━━━━━\u001b[0m\u001b[37m\u001b[0m \u001b[1m0s\u001b[0m 40ms/step\n",
            "they helped tom                ils ont aidé tom                                   ils devonsnous daccord\n",
            "\u001b[1m1/1\u001b[0m \u001b[32m━━━━━━━━━━━━━━━━━━━━\u001b[0m\u001b[37m\u001b[0m \u001b[1m0s\u001b[0m 39ms/step\n",
            "whore you looking for          qui cherchestu                                     tes tes vous\n",
            "\u001b[1m1/1\u001b[0m \u001b[32m━━━━━━━━━━━━━━━━━━━━\u001b[0m\u001b[37m\u001b[0m \u001b[1m0s\u001b[0m 40ms/step\n",
            "i know it well enough          je le sais suffisamment bien                       je sais que bien bien\n",
            "\u001b[1m1/1\u001b[0m \u001b[32m━━━━━━━━━━━━━━━━━━━━\u001b[0m\u001b[37m\u001b[0m \u001b[1m0s\u001b[0m 39ms/step\n",
            "can i eat that                 je peux manger ça                                  puisje jaimerais ceci\n",
            "\u001b[1m1/1\u001b[0m \u001b[32m━━━━━━━━━━━━━━━━━━━━\u001b[0m\u001b[37m\u001b[0m \u001b[1m0s\u001b[0m 41ms/step\n",
            "his parents love me            ses parents madorent                               sûr préfère loublier\n",
            "\u001b[1m1/1\u001b[0m \u001b[32m━━━━━━━━━━━━━━━━━━━━\u001b[0m\u001b[37m\u001b[0m \u001b[1m0s\u001b[0m 40ms/step\n",
            "how could you think that       comment pourraistu penser ça                       comment le le cela\n",
            "\u001b[1m1/1\u001b[0m \u001b[32m━━━━━━━━━━━━━━━━━━━━\u001b[0m\u001b[37m\u001b[0m \u001b[1m0s\u001b[0m 41ms/step\n",
            "her life is in danger          sa vie est en danger                               la ces est en\n"
          ]
        }
      ],
      "source": [
        "print('\\n\\n### Results ###')\n",
        "limit = 20\n",
        "config = model.get_config()\n",
        "max_no_of_words = int(config[\"layers\"][0][\"config\"][\"batch_shape\"][1])\n",
        "\n",
        "test_set = dataset.sample(n=limit)\n",
        "true_src = src_tokenizer.texts_to_sequences(test_set[\"English words/sentences\"])\n",
        "source = pad_sequences(true_src, padding='post', maxlen=max_no_of_words)\n",
        "\n",
        "for i in range(len(test_set)):\n",
        "    true_target = test_set.iloc[i][\"French words/sentences\"]\n",
        "    translation = predict_seq(model, tar_tokenizer, source[i])\n",
        "    print(f'{test_set.iloc[i][\"English words/sentences\"]:30} {true_target:50} {translation}')"
      ]
    }
  ],
  "metadata": {
    "colab": {
      "provenance": [],
      "gpuType": "V28",
      "authorship_tag": "ABX9TyMqi7Am9so1Ed431A7AmK5V",
      "include_colab_link": true
    },
    "kernelspec": {
      "display_name": "Python 3",
      "name": "python3"
    },
    "language_info": {
      "name": "python"
    },
    "accelerator": "TPU"
  },
  "nbformat": 4,
  "nbformat_minor": 0
}