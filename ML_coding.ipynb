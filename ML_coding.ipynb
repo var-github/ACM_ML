{
  "cells": [
    {
      "cell_type": "markdown",
      "metadata": {
        "id": "view-in-github",
        "colab_type": "text"
      },
      "source": [
        "<a href=\"https://colab.research.google.com/github/var-github/ACM_ML/blob/main/ML_coding.ipynb\" target=\"_parent\"><img src=\"https://colab.research.google.com/assets/colab-badge.svg\" alt=\"Open In Colab\"/></a>"
      ]
    },
    {
      "cell_type": "code",
      "execution_count": null,
      "metadata": {
        "colab": {
          "base_uri": "https://localhost:8080/"
        },
        "id": "VsqOGm7V2Wke",
        "outputId": "7797cab2-00f6-472e-c4ea-d7817e2e225b"
      },
      "outputs": [
        {
          "output_type": "stream",
          "name": "stdout",
          "text": [
            "Downloading from https://www.kaggle.com/api/v1/datasets/download/aniruddhsharma/structural-defects-network-concrete-crack-images?dataset_version_number=1...\n"
          ]
        },
        {
          "output_type": "stream",
          "name": "stderr",
          "text": [
            "100%|██████████| 506M/506M [00:10<00:00, 50.5MB/s]"
          ]
        },
        {
          "output_type": "stream",
          "name": "stdout",
          "text": [
            "Extracting files...\n"
          ]
        },
        {
          "output_type": "stream",
          "name": "stderr",
          "text": [
            "\n"
          ]
        },
        {
          "output_type": "stream",
          "name": "stdout",
          "text": [
            "Data source import complete.\n"
          ]
        }
      ],
      "source": [
        "import kagglehub\n",
        "data_path = kagglehub.dataset_download('aniruddhsharma/structural-defects-network-concrete-crack-images')\n",
        "print('Data source import complete.')"
      ]
    },
    {
      "cell_type": "code",
      "execution_count": null,
      "metadata": {
        "id": "SI9_HEVja69N"
      },
      "outputs": [],
      "source": [
        "import os\n",
        "import cv2\n",
        "\n",
        "Data = []\n",
        "Labels = []\n",
        "data_path = data_path + '/Walls'\n",
        "\n",
        "directory = data_path + '/Cracked'\n",
        "Labels += [1]*len(os.listdir(directory))\n",
        "for name in os.listdir(directory):\n",
        "    img = cv2.imread(os.path.join(directory, name))\n",
        "    Data.append(img)\n",
        "\n",
        "\n",
        "directory = data_path + '/Non-cracked'\n",
        "Labels += [0]*len(os.listdir(directory))\n",
        "for name in os.listdir(directory):\n",
        "    img = cv2.imread(os.path.join(directory, name))\n",
        "    Data.append(img)"
      ]
    },
    {
      "cell_type": "code",
      "source": [
        "import numpy as np\n",
        "Data = np.array(Data)\n",
        "Labels = np.array(Labels)"
      ],
      "metadata": {
        "id": "OZuNPdU6_74J"
      },
      "execution_count": null,
      "outputs": []
    },
    {
      "cell_type": "code",
      "source": [
        "from sklearn.model_selection import train_test_split\n",
        "x_train, x_test, y_train, y_test = train_test_split(Data, Labels, shuffle=True)\n",
        "del Data, Labels"
      ],
      "metadata": {
        "id": "u8YQcVsPqwmV"
      },
      "execution_count": null,
      "outputs": []
    },
    {
      "cell_type": "code",
      "source": [
        "from tensorflow.keras import layers,models\n",
        "model = models.Sequential([\n",
        "    layers.Input(shape=(256, 256, 3)),\n",
        "    layers.Conv2D(filters=8, kernel_size=(3, 3), activation='relu'),\n",
        "    layers.MaxPooling2D(2, 2),\n",
        "\n",
        "    layers.Conv2D(filters=16, kernel_size=(3, 3), activation='relu'),\n",
        "    layers.MaxPooling2D(2, 2),\n",
        "\n",
        "    layers.Flatten(),\n",
        "    layers.Dense(16, activation=\"relu\"),\n",
        "    layers.Dense(2, activation=\"softmax\")\n",
        "])\n",
        "model.compile(optimizer=\"adam\", loss=\"sparse_categorical_crossentropy\", metrics=[\"accuracy\"])"
      ],
      "metadata": {
        "id": "UgrjjXLErIR5"
      },
      "execution_count": null,
      "outputs": []
    },
    {
      "cell_type": "code",
      "source": [
        "model.fit(x_train, y_train,epochs=10, validation_split=0.2, batch_size=8)\n",
        "model.save('cracked_wall_cnn.keras')"
      ],
      "metadata": {
        "id": "OuuyzB7M6hRc",
        "colab": {
          "base_uri": "https://localhost:8080/"
        },
        "outputId": "2cee5339-7113-40c1-a832-219d722bc362"
      },
      "execution_count": null,
      "outputs": [
        {
          "output_type": "stream",
          "name": "stdout",
          "text": [
            "Epoch 1/10\n",
            "\u001b[1m1361/1361\u001b[0m \u001b[32m━━━━━━━━━━━━━━━━━━━━\u001b[0m\u001b[37m\u001b[0m \u001b[1m343s\u001b[0m 250ms/step - accuracy: 0.7849 - loss: 2.2129 - val_accuracy: 0.7960 - val_loss: 0.5088\n",
            "Epoch 2/10\n",
            "\u001b[1m1361/1361\u001b[0m \u001b[32m━━━━━━━━━━━━━━━━━━━━\u001b[0m\u001b[37m\u001b[0m \u001b[1m381s\u001b[0m 250ms/step - accuracy: 0.7843 - loss: 0.5218 - val_accuracy: 0.7960 - val_loss: 0.5064\n",
            "Epoch 3/10\n",
            "\u001b[1m1361/1361\u001b[0m \u001b[32m━━━━━━━━━━━━━━━━━━━━\u001b[0m\u001b[37m\u001b[0m \u001b[1m368s\u001b[0m 239ms/step - accuracy: 0.7832 - loss: 0.5228 - val_accuracy: 0.7960 - val_loss: 0.5059\n",
            "Epoch 4/10\n",
            "\u001b[1m1361/1361\u001b[0m \u001b[32m━━━━━━━━━━━━━━━━━━━━\u001b[0m\u001b[37m\u001b[0m \u001b[1m396s\u001b[0m 250ms/step - accuracy: 0.7804 - loss: 0.5266 - val_accuracy: 0.7960 - val_loss: 0.5057\n",
            "Epoch 5/10\n",
            "\u001b[1m1361/1361\u001b[0m \u001b[32m━━━━━━━━━━━━━━━━━━━━\u001b[0m\u001b[37m\u001b[0m \u001b[1m322s\u001b[0m 236ms/step - accuracy: 0.7841 - loss: 0.5218 - val_accuracy: 0.7960 - val_loss: 0.5060\n",
            "Epoch 6/10\n",
            "\u001b[1m1361/1361\u001b[0m \u001b[32m━━━━━━━━━━━━━━━━━━━━\u001b[0m\u001b[37m\u001b[0m \u001b[1m338s\u001b[0m 249ms/step - accuracy: 0.7855 - loss: 0.5200 - val_accuracy: 0.7960 - val_loss: 0.5061\n",
            "Epoch 7/10\n",
            "\u001b[1m1361/1361\u001b[0m \u001b[32m━━━━━━━━━━━━━━━━━━━━\u001b[0m\u001b[37m\u001b[0m \u001b[1m335s\u001b[0m 246ms/step - accuracy: 0.7852 - loss: 0.5204 - val_accuracy: 0.7960 - val_loss: 0.5060\n",
            "Epoch 8/10\n",
            "\u001b[1m1361/1361\u001b[0m \u001b[32m━━━━━━━━━━━━━━━━━━━━\u001b[0m\u001b[37m\u001b[0m \u001b[1m367s\u001b[0m 235ms/step - accuracy: 0.7864 - loss: 0.5188 - val_accuracy: 0.7960 - val_loss: 0.5062\n",
            "Epoch 9/10\n",
            "\u001b[1m1361/1361\u001b[0m \u001b[32m━━━━━━━━━━━━━━━━━━━━\u001b[0m\u001b[37m\u001b[0m \u001b[1m339s\u001b[0m 249ms/step - accuracy: 0.7864 - loss: 0.5187 - val_accuracy: 0.7960 - val_loss: 0.5063\n",
            "Epoch 10/10\n",
            "\u001b[1m1361/1361\u001b[0m \u001b[32m━━━━━━━━━━━━━━━━━━━━\u001b[0m\u001b[37m\u001b[0m \u001b[1m385s\u001b[0m 251ms/step - accuracy: 0.7807 - loss: 0.5260 - val_accuracy: 0.7960 - val_loss: 0.5059\n"
          ]
        }
      ]
    },
    {
      "cell_type": "code",
      "source": [
        "loss, accuracy = model.evaluate(x_test, y_test, batch_size=8)\n",
        "print(f\"Test Loss: {loss:.4f}\")\n",
        "print(f\"Test Accuracy: {accuracy:.4f}\")"
      ],
      "metadata": {
        "colab": {
          "base_uri": "https://localhost:8080/"
        },
        "id": "OFpsLfq4y4_E",
        "outputId": "a3b12d1c-26ca-451b-ee7e-434b697dd588"
      },
      "execution_count": null,
      "outputs": [
        {
          "output_type": "stream",
          "name": "stdout",
          "text": [
            "\u001b[1m567/567\u001b[0m \u001b[32m━━━━━━━━━━━━━━━━━━━━\u001b[0m\u001b[37m\u001b[0m \u001b[1m45s\u001b[0m 80ms/step - accuracy: 0.7926 - loss: 0.5106\n",
            "Test Loss: 0.5150\n",
            "Test Accuracy: 0.7892\n"
          ]
        }
      ]
    }
  ],
  "metadata": {
    "colab": {
      "provenance": [],
      "authorship_tag": "ABX9TyPXgWnVxB7XwfaVYWDRRd5F",
      "include_colab_link": true
    },
    "kernelspec": {
      "display_name": "Python 3",
      "name": "python3"
    },
    "language_info": {
      "name": "python"
    }
  },
  "nbformat": 4,
  "nbformat_minor": 0
}